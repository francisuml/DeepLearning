{
 "cells": [
  {
   "cell_type": "markdown",
   "id": "3e90dca0-6f0c-47f9-80a1-f8b34e834d5f",
   "metadata": {
    "editable": true,
    "slideshow": {
     "slide_type": ""
    },
    "tags": []
   },
   "source": [
    "# 01 PyTorch Workflow\n",
    "\n",
    "### End-to-end PyTorch Workflow\n",
    "\n",
    "Resource:\n",
    "[torch.nn Documentation](https://docs.pytorch.org/docs/stable/nn.html)\n",
    "\n",
    "### Workflow\n",
    "\n",
    "1. [Get the Data Ready](#1-get-the-data-ready)  \n",
    "2. [Build a Model](#2-build-a-model)  \n",
    "3. [Fit the model](#3-fit-the-model)  \n",
    "4. [Evaluate the model](#4-evaluate-the-model)  \n",
    "5. [Improve the model](#5-improve-the-model)  \n",
    "6. [Save and Reload the model](#6-save-and-reload-the-model)  \n",
    "7. [Put it all together](#7-put-it-all-together)"
   ]
  },
  {
   "cell_type": "markdown",
   "id": "b78ad5f3-049a-4c2d-93c2-0a43edb3dd9b",
   "metadata": {
    "editable": true,
    "slideshow": {
     "slide_type": ""
    },
    "tags": []
   },
   "source": [
    "<a id=\"1-get-the-data-ready\"></a>\n",
    "## 1. Get the Data Ready\n",
    "\n",
    "Data from:\n",
    "1. Excel spreadsheet\n",
    "2. Images\n",
    "3. Videos\n",
    "4. Audio\n",
    "5. DNA\n",
    "6. Text\n",
    "\n",
    "* Get data into a numerical representation\n",
    "* Build a model to learn patterns in that numerical representation"
   ]
  },
  {
   "cell_type": "code",
   "execution_count": 2,
   "id": "00c5748d-9455-4694-9afb-60ac872e8630",
   "metadata": {},
   "outputs": [],
   "source": [
    "import torch"
   ]
  },
  {
   "cell_type": "code",
   "execution_count": 3,
   "id": "4bc108a9-c940-4db1-ab8a-b31989055a25",
   "metadata": {},
   "outputs": [],
   "source": [
    "# Create the known parameters\n",
    "weight = 0.6\n",
    "bias = 0.2\n",
    "\n",
    "#Create tensor\n",
    "start = 0\n",
    "end = 1\n",
    "step = 0.02\n",
    "\n",
    "X = torch.arange(start, end, step).unsqueeze(dim=1)\n",
    "y = weight * X + bias"
   ]
  },
  {
   "cell_type": "code",
   "execution_count": 4,
   "id": "3f0925e7-7f53-4849-b5d0-760e08db18d3",
   "metadata": {},
   "outputs": [
    {
     "data": {
      "text/plain": [
       "(tensor([[0.0000],\n",
       "         [0.0200],\n",
       "         [0.0400],\n",
       "         [0.0600],\n",
       "         [0.0800],\n",
       "         [0.1000],\n",
       "         [0.1200],\n",
       "         [0.1400],\n",
       "         [0.1600],\n",
       "         [0.1800]]),\n",
       " tensor([[0.2000],\n",
       "         [0.2120],\n",
       "         [0.2240],\n",
       "         [0.2360],\n",
       "         [0.2480],\n",
       "         [0.2600],\n",
       "         [0.2720],\n",
       "         [0.2840],\n",
       "         [0.2960],\n",
       "         [0.3080]]))"
      ]
     },
     "execution_count": 4,
     "metadata": {},
     "output_type": "execute_result"
    }
   ],
   "source": [
    "X[:10], y[:10]"
   ]
  },
  {
   "cell_type": "code",
   "execution_count": 5,
   "id": "9365d9aa-c9b5-4c96-baf2-e6ffd09b1581",
   "metadata": {},
   "outputs": [
    {
     "data": {
      "text/plain": [
       "(50, 50)"
      ]
     },
     "execution_count": 5,
     "metadata": {},
     "output_type": "execute_result"
    }
   ],
   "source": [
    "len(X), len(y)"
   ]
  },
  {
   "cell_type": "markdown",
   "id": "1de54968-4ef9-4d43-8b5e-1d022e19c42c",
   "metadata": {},
   "source": [
    "## Split data into training and test sets\n",
    "\n",
    "#### Create a training and teset set with the data"
   ]
  },
  {
   "cell_type": "code",
   "execution_count": 6,
   "id": "8a27ee93-bb35-4a8b-a433-a0851c94f043",
   "metadata": {},
   "outputs": [],
   "source": [
    "#Create a train/test split\n",
    "\n",
    "train_split = int(0.8 * len(X))\n",
    "X_train, y_train = X[:train_split], y[:train_split]\n",
    "X_test, y_test = X[train_split:], y[train_split:]"
   ]
  },
  {
   "cell_type": "code",
   "execution_count": 7,
   "id": "04a7dfa3-da72-452f-8aef-eef2c00bc2aa",
   "metadata": {},
   "outputs": [
    {
     "data": {
      "text/plain": [
       "(40, 40)"
      ]
     },
     "execution_count": 7,
     "metadata": {},
     "output_type": "execute_result"
    }
   ],
   "source": [
    "len(X_train), len(y_train)"
   ]
  },
  {
   "cell_type": "code",
   "execution_count": 8,
   "id": "fcccba11-fe71-4c84-980a-c40d4bfb13b5",
   "metadata": {},
   "outputs": [
    {
     "data": {
      "text/plain": [
       "(10, 10)"
      ]
     },
     "execution_count": 8,
     "metadata": {},
     "output_type": "execute_result"
    }
   ],
   "source": [
    "len(X_test), len(y_test)"
   ]
  },
  {
   "cell_type": "markdown",
   "id": "ee77654d-19f6-4206-8517-61897257d461",
   "metadata": {},
   "source": [
    "## Visualize the data"
   ]
  },
  {
   "cell_type": "code",
   "execution_count": 9,
   "id": "44a4d2ce-c0cc-4c14-82b6-ab3c3196ddf4",
   "metadata": {},
   "outputs": [],
   "source": [
    "import matplotlib.pyplot as plt\n",
    "\n",
    "def plot_predictions(train_data=X_train,\n",
    "                    train_labels=y_train,\n",
    "                    test_data = X_test,\n",
    "                    test_labels=y_test,\n",
    "                    predictions=None):\n",
    "\n",
    "    \"\"\"\n",
    "    Plot training data, test data and compares predictions\n",
    "    \"\"\"\n",
    "\n",
    "    plt.figure(figsize=(10,7))\n",
    "\n",
    "    #Plot the training data in blue\n",
    "    plt.scatter(train_data, train_labels, c='b', s=4, label='Training Data')\n",
    "\n",
    "    #Plot the test data in gree\n",
    "    plt.scatter(test_data, test_labels, c='g', s=4, label='Test Data')\n",
    "\n",
    "\n",
    "    #Are there predictions?\n",
    "    if predictions is not None:\n",
    "        #plot the prediction if they exist\n",
    "        plt.scatter(test_data, predictions, c='r',s=8,label='Predictions')\n",
    "\n",
    "    #show the legend\n",
    "    plt.legend(prop={'size': 14})"
   ]
  },
  {
   "cell_type": "code",
   "execution_count": 10,
   "id": "bad31025-2415-4c6b-bc0c-dd575f7d103c",
   "metadata": {},
   "outputs": [
    {
     "data": {
      "image/png": "[encoded data removed]",
      "text/plain": [
       "<Figure size 1000x700 with 1 Axes>"
      ]
     },
     "metadata": {},
     "output_type": "display_data"
    }
   ],
   "source": [
    "plot_predictions()"
   ]
  },
  {
   "cell_type": "markdown",
   "id": "0a822fe0-d81f-45eb-8600-a13f2a8fbe4e",
   "metadata": {},
   "source": [
    "<a id=\"2-build-a-model\"></a>\n",
    "## 2. Build a Model"
   ]
  },
  {
   "cell_type": "code",
   "execution_count": 11,
   "id": "ba56e249-90a5-4cef-ae5a-8fa0eeae00d6",
   "metadata": {},
   "outputs": [],
   "source": [
    "## Create the Model\n",
    "from torch import nn\n",
    "\n",
    "class LinearRegressionModel(nn.Module):\n",
    "    def __init__(self):\n",
    "        super().__init__()\n",
    "\n",
    "        #Initialize model Parameters\n",
    "        self.weights = nn.Parameter(torch.randn(1,\n",
    "                                               requires_grad=True,\n",
    "                                               dtype=torch.float))\n",
    "        self.bias = nn.Parameter(torch.randn(1,\n",
    "                                            requires_grad=True,\n",
    "                                            dtype=torch.float))\n",
    "\n",
    "    #Forward method to define the computation in the model\n",
    "    def forward(self, x: torch.Tensor) -> torch.Tensor:\n",
    "        return self.weights * x + self.bias"
   ]
  },
  {
   "cell_type": "markdown",
   "id": "6bc28bbe-5a37-4ae2-a1ac-6cd71a79fb7b",
   "metadata": {},
   "source": [
    "## PyTorch Essential Nueral Network Building Modules\n",
    "---\n",
    "Reference:\n",
    "**[PyTorch CheatSheet](https://docs.pytorch.org/tutorials/beginner/ptcheat.html)**\n",
    "\n",
    "---\n",
    "| PyTorch Module | What does it do? | \n",
    "|:--------------:|:----------------:|\n",
    "|  torch.nn      |  Contains all of the building blocks for computational graphs(essentially a series of computations executed in a particular way)   |  \n",
    "|  torch.nn.Module        |  The base class of all neural network modules, all the building blocks for neural networks are subclass. If you're building a neural network in PyTorch, your models should subclass `nn.Module`. Requires a `forward()` method to be implemented|\n",
    "|  torch.optim       |  Contains various optimization algorithms (these tell the model parameters stored in nn.Parameter, how to best change to improve gradient descent and in turn reduce the loss)   |\n",
    "| torch.utils.data.Dataset | Represent a map between key (label) and sample (features) pairs of your data. Such as images and their associated labels.|\n",
    "|torch.utils.data.DataLoader| Creates a Python iterable overa torch Dataset (allows you to iterate over your data|\n",
    "\n",
    "---"
   ]
  },
  {
   "cell_type": "markdown",
   "id": "a087bef1-a937-41bd-aa7c-5f63d06b7c2a",
   "metadata": {},
   "source": [
    "## PyTorch model building essentials"
   ]
  },
  {
   "cell_type": "code",
   "execution_count": 51,
   "id": "0642decd-fcac-44bb-b1c9-cd04f6d281cb",
   "metadata": {},
   "outputs": [
    {
     "data": {
      "text/plain": [
       "[Parameter containing:\n",
       " tensor([0.3367], requires_grad=True),\n",
       " Parameter containing:\n",
       " tensor([0.1288], requires_grad=True)]"
      ]
     },
     "execution_count": 51,
     "metadata": {},
     "output_type": "execute_result"
    }
   ],
   "source": [
    "# Create a random seed\n",
    "torch.manual_seed(42)\n",
    "\n",
    "#Create an instance of the model\n",
    "model_0 = LinearRegressionModel()\n",
    "\n",
    "#Check the parameters\n",
    "list(model_0.parameters())"
   ]
  },
  {
   "cell_type": "code",
   "execution_count": 52,
   "id": "d6cf0d3f-9d39-4cfe-a853-75543ca2c96b",
   "metadata": {},
   "outputs": [
    {
     "data": {
      "text/plain": [
       "OrderedDict([('weights', tensor([0.3367])), ('bias', tensor([0.1288]))])"
      ]
     },
     "execution_count": 52,
     "metadata": {},
     "output_type": "execute_result"
    }
   ],
   "source": [
    "# List named parameters\n",
    "model_0.state_dict()\n"
   ]
  },
  {
   "cell_type": "markdown",
   "id": "f83e761b-764e-4d0c-b021-f5fe1a94a0be",
   "metadata": {},
   "source": [
    "### Making Prediction using `torch.inference_mode()`\n",
    "To check our model's predictive power, let's see how we;; it predicts y_test based on X_test.\n",
    "When we pass data through our model, it's going to run it through the forward() method.\n"
   ]
  },
  {
   "cell_type": "code",
   "execution_count": 53,
   "id": "4dacb6e6-c9f0-43e9-91b5-3ffbee547927",
   "metadata": {},
   "outputs": [
    {
     "data": {
      "text/plain": [
       "tensor([[0.3982],\n",
       "        [0.4049],\n",
       "        [0.4116],\n",
       "        [0.4184],\n",
       "        [0.4251],\n",
       "        [0.4318],\n",
       "        [0.4386],\n",
       "        [0.4453],\n",
       "        [0.4520],\n",
       "        [0.4588]])"
      ]
     },
     "execution_count": 53,
     "metadata": {},
     "output_type": "execute_result"
    }
   ],
   "source": [
    "# Make prediction with model\n",
    "with torch.inference_mode():\n",
    "    y_preds = model_0(X_test)\n",
    "\n",
    "y_preds"
   ]
  },
  {
   "cell_type": "code",
   "execution_count": 54,
   "id": "7ecf802d-d2a1-4811-bd8d-d8e292f92010",
   "metadata": {},
   "outputs": [
    {
     "data": {
      "image/png": "[encoded data removed]",
      "text/plain": [
       "<Figure size 1000x700 with 1 Axes>"
      ]
     },
     "metadata": {},
     "output_type": "display_data"
    }
   ],
   "source": [
    "plot_predictions(predictions=y_preds)"
   ]
  },
  {
   "cell_type": "markdown",
   "id": "a0ea2dfa-9418-4d49-a610-5aa84f0b96af",
   "metadata": {},
   "source": [
    "<a id='3-fit-the-model'></a>\n",
    "## 3. Train Model\n",
    "The whole idea of training is for a model to move from some **unknown** parameters (random) to some **known** parameters.\n",
    "\n",
    "Or in other words, from a poor representation of data to a better representation of the data.\n",
    "\n",
    "One way to measure how poor or how wrong your models preidcitons are is to use **Loss Function**\n",
    "\n",
    "**Loss Function** - is a function to measure how wrong your model's predictions are to the ideal outputs, lower is better.\n",
    "\n",
    "**Optimizer** - Takes into account the loss of a model and adjusts the model's parameters (weight and bias)\n",
    "\n",
    "What we need:\n",
    "- A training loop\n",
    "- A testing loop"
   ]
  },
  {
   "cell_type": "code",
   "execution_count": 55,
   "id": "f0bbff90-2e90-462c-b808-a803e9582c08",
   "metadata": {},
   "outputs": [
    {
     "data": {
      "text/plain": [
       "[Parameter containing:\n",
       " tensor([0.3367], requires_grad=True),\n",
       " Parameter containing:\n",
       " tensor([0.1288], requires_grad=True)]"
      ]
     },
     "execution_count": 55,
     "metadata": {},
     "output_type": "execute_result"
    }
   ],
   "source": [
    "list(model_0.parameters())"
   ]
  },
  {
   "cell_type": "code",
   "execution_count": 56,
   "id": "bbb70156-9040-4407-a6f7-918f3bab44a0",
   "metadata": {},
   "outputs": [
    {
     "data": {
      "text/plain": [
       "OrderedDict([('weights', tensor([0.3367])), ('bias', tensor([0.1288]))])"
      ]
     },
     "execution_count": 56,
     "metadata": {},
     "output_type": "execute_result"
    }
   ],
   "source": [
    "model_0.state_dict()"
   ]
  },
  {
   "cell_type": "code",
   "execution_count": 57,
   "id": "829f3db0-eb36-4f07-939c-9086aa66526e",
   "metadata": {},
   "outputs": [],
   "source": [
    "# Setup a loss function\n",
    "loss_fn = nn.L1Loss()\n",
    "\n",
    "#Setup an optimizer (SGD - stochastic gradient descent)\n",
    "optimizer = torch.optim.SGD(params=model_0.parameters(),\n",
    "                           lr=0.01)"
   ]
  },
  {
   "cell_type": "markdown",
   "id": "7c069dc2-6cdc-4bb5-960d-e272d5c873ea",
   "metadata": {},
   "source": [
    "### Building a training loop and a testing loop\n",
    "\n",
    "1. Loop through the data\n",
    "2. Forward Pass (this involves data moving through our mdoel's `forward()` functions) to make predictions on data - also called forward propagation\n",
    "3. Calculate the loss (compare forward pass predictions to ground truth labels)\n",
    "4. Optimizer zero grad\n",
    "5. Loss backward - move backwards through the network to calculate the gradients of each of the parameters of our model with respect to the loss. (backpropagation)\n",
    "6. Optimizer step - use the optimizer to adjust our model's parameters to try and improve the loss (gradien descent)"
   ]
  },
  {
   "cell_type": "code",
   "execution_count": 58,
   "id": "69604ee4-ea87-414f-9408-e05a7d836052",
   "metadata": {},
   "outputs": [
    {
     "name": "stdout",
     "output_type": "stream",
     "text": [
      "Epoch 0 | Loss: 0.17388135194778442 | Test Loss: 0.29206520318984985\n",
      "OrderedDict([('weights', tensor([0.3406])), ('bias', tensor([0.1388]))])\n",
      "Epoch 10 | Loss: 0.06607577949762344 | Test Loss: 0.16355101764202118\n",
      "OrderedDict([('weights', tensor([0.3794])), ('bias', tensor([0.2328]))])\n",
      "Epoch 20 | Loss: 0.039144229143857956 | Test Loss: 0.10241486877202988\n",
      "OrderedDict([('weights', tensor([0.4099])), ('bias', tensor([0.2668]))])\n",
      "Epoch 30 | Loss: 0.03429242596030235 | Test Loss: 0.08263428509235382\n",
      "OrderedDict([('weights', tensor([0.4304])), ('bias', tensor([0.2683]))])\n",
      "Epoch 40 | Loss: 0.030802428722381592 | Test Loss: 0.07161422073841095\n",
      "OrderedDict([('weights', tensor([0.4484])), ('bias', tensor([0.2633]))])\n",
      "Epoch 50 | Loss: 0.02735968492925167 | Test Loss: 0.0633416697382927\n",
      "OrderedDict([('weights', tensor([0.4656])), ('bias', tensor([0.2563]))])\n",
      "Epoch 60 | Loss: 0.0239248163998127 | Test Loss: 0.05506915599107742\n",
      "OrderedDict([('weights', tensor([0.4827])), ('bias', tensor([0.2493]))])\n",
      "Epoch 70 | Loss: 0.02048618160188198 | Test Loss: 0.047483570873737335\n",
      "OrderedDict([('weights', tensor([0.4997])), ('bias', tensor([0.2418]))])\n",
      "Epoch 80 | Loss: 0.017057739198207855 | Test Loss: 0.039211105555295944\n",
      "OrderedDict([('weights', tensor([0.5168])), ('bias', tensor([0.2348]))])\n",
      "Epoch 90 | Loss: 0.013621193356812 | Test Loss: 0.03093862533569336\n",
      "OrderedDict([('weights', tensor([0.5340])), ('bias', tensor([0.2278]))])\n",
      "Epoch 100 | Loss: 0.01018423680216074 | Test Loss: 0.023353051394224167\n",
      "OrderedDict([('weights', tensor([0.5509])), ('bias', tensor([0.2203]))])\n",
      "Epoch 110 | Loss: 0.0067557888105511665 | Test Loss: 0.015080565586686134\n",
      "OrderedDict([('weights', tensor([0.5681])), ('bias', tensor([0.2133]))])\n",
      "Epoch 120 | Loss: 0.0033175654243677855 | Test Loss: 0.006808096077293158\n",
      "OrderedDict([('weights', tensor([0.5853])), ('bias', tensor([0.2063]))])\n",
      "Epoch 130 | Loss: 0.00654077623039484 | Test Loss: 0.003275567200034857\n",
      "OrderedDict([('weights', tensor([0.5966])), ('bias', tensor([0.2063]))])\n",
      "Epoch 140 | Loss: 0.00654077623039484 | Test Loss: 0.003275567200034857\n",
      "OrderedDict([('weights', tensor([0.5966])), ('bias', tensor([0.2063]))])\n",
      "Epoch 150 | Loss: 0.00654077623039484 | Test Loss: 0.003275567200034857\n",
      "OrderedDict([('weights', tensor([0.5966])), ('bias', tensor([0.2063]))])\n",
      "Epoch 160 | Loss: 0.00654077623039484 | Test Loss: 0.003275567200034857\n",
      "OrderedDict([('weights', tensor([0.5966])), ('bias', tensor([0.2063]))])\n",
      "Epoch 170 | Loss: 0.00654077623039484 | Test Loss: 0.003275567200034857\n",
      "OrderedDict([('weights', tensor([0.5966])), ('bias', tensor([0.2063]))])\n",
      "Epoch 180 | Loss: 0.00654077623039484 | Test Loss: 0.003275567200034857\n",
      "OrderedDict([('weights', tensor([0.5966])), ('bias', tensor([0.2063]))])\n",
      "Epoch 190 | Loss: 0.00654077623039484 | Test Loss: 0.003275567200034857\n",
      "OrderedDict([('weights', tensor([0.5966])), ('bias', tensor([0.2063]))])\n"
     ]
    }
   ],
   "source": [
    "# The loop through the data\n",
    "epochs = 200\n",
    "\n",
    "#Tracking different values\n",
    "epoch_count = []\n",
    "loss_values = []\n",
    "test_loss_values = []\n",
    "\n",
    "### Training\n",
    "## Loop through the data\n",
    "for epoch in range(epochs):\n",
    "    #Set the model to training mode\n",
    "    model_0.train() #train mode in PyTorch sets all parameters that requires gradient descent to require gradients\n",
    "\n",
    "    # Forward Pass\n",
    "    y_pred = model_0(X_train)\n",
    "\n",
    "    #Calculate the loss\n",
    "    loss = loss_fn(y_pred, y_train)\n",
    "\n",
    "    #Optimizer zero grad\n",
    "    optimizer.zero_grad()\n",
    "\n",
    "    #Perform backpropagation\n",
    "    loss.backward()\n",
    "\n",
    "    #Step the optimizer\n",
    "    optimizer.step() # how the optimize accumulate through the loop\n",
    "\n",
    "    #Evaluate\n",
    "    model_0.eval()\n",
    "\n",
    "    with torch.inference_mode():\n",
    "\n",
    "    # with torch.no_grad():\n",
    "        # Forward Pass\n",
    "        test_pred = model_0(X_test)\n",
    "\n",
    "        #Calculate the Loss\n",
    "        test_loss = loss_fn(test_pred, y_test)\n",
    "\n",
    "    if epoch % 10 == 0:\n",
    "        epoch_count.append(epoch)\n",
    "        loss_values.append(loss)\n",
    "        test_loss_values.append(test_loss)\n",
    "        print(f'Epoch {epoch} | Loss: {loss} | Test Loss: {test_loss}')\n",
    "        \n",
    "        print(model_0.state_dict())"
   ]
  },
  {
   "cell_type": "code",
   "execution_count": 59,
   "id": "cfd16a87-b89f-4ff0-83e1-b4af5cf86282",
   "metadata": {},
   "outputs": [
    {
     "data": {
      "image/png": "[encoded data removed]",
      "text/plain": [
       "<Figure size 640x480 with 1 Axes>"
      ]
     },
     "metadata": {},
     "output_type": "display_data"
    }
   ],
   "source": [
    "# Plot the curves\n",
    "import numpy as np\n",
    "\n",
    "plt.plot(epoch_count, np.array(torch.tensor(loss_values).numpy()), label='Train Loss')\n",
    "plt.plot(epoch_count, test_loss_values, label='Test Loss')\n",
    "plt.title('Training and Test Loss Curves')\n",
    "plt.ylabel('Loss')\n",
    "plt.xlabel('Epochs')\n",
    "plt.legend();"
   ]
  },
  {
   "cell_type": "code",
   "execution_count": 47,
   "id": "2d66bbc7-848f-4fc3-9266-3031a0401da8",
   "metadata": {},
   "outputs": [
    {
     "name": "stdout",
     "output_type": "stream",
     "text": [
      "OrderedDict([('weights', tensor([0.5966])), ('bias', tensor([0.2063]))])\n"
     ]
    }
   ],
   "source": [
    "print(model_0.state_dict())"
   ]
  },
  {
   "cell_type": "code",
   "execution_count": 48,
   "id": "a0c734fa-9f40-441e-83f4-79465429af6c",
   "metadata": {},
   "outputs": [],
   "source": [
    "with torch.inference_mode():\n",
    "    y_preds_new = model_0(X_test)"
   ]
  },
  {
   "cell_type": "code",
   "execution_count": 49,
   "id": "339cce84-84f1-43dc-8e6c-9a579ea44f67",
   "metadata": {},
   "outputs": [
    {
     "data": {
      "image/png": "[encoded data removed]",
      "text/plain": [
       "<Figure size 1000x700 with 1 Axes>"
      ]
     },
     "metadata": {},
     "output_type": "display_data"
    }
   ],
   "source": [
    "plot_predictions(predictions=y_preds_new)"
   ]
  },
  {
   "cell_type": "code",
   "execution_count": null,
   "id": "2ee68ab2-9e75-41fd-a2a1-a8d78c2ef200",
   "metadata": {},
   "outputs": [],
   "source": [
    "## Saving a model in PyTorch\n",
    "1. `torch.save()` - allwos you to save a PyTorch object in Python's pickle format\n",
    "2. `torch.load()` - allows to load a saved PyTorch object\n",
    "3. `torch.nn.Module.load_state_dict - "
   ]
  }
 ],
 "metadata": {
  "kernelspec": {
   "display_name": "Python 3 (ipykernel)",
   "language": "python",
   "name": "python3"
  },
  "language_info": {
   "codemirror_mode": {
    "name": "ipython",
    "version": 3
   },
   "file_extension": ".py",
   "mimetype": "text/x-python",
   "name": "python",
   "nbconvert_exporter": "python",
   "pygments_lexer": "ipython3",
   "version": "3.9.18"
  }
 },
 "nbformat": 4,
 "nbformat_minor": 5
}
